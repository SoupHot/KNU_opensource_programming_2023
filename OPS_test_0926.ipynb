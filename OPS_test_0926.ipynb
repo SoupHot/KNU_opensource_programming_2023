{
 "cells": [
  {
   "cell_type": "code",
   "execution_count": null,
   "metadata": {
    "id": "AETdhFHcxMcY"
   },
   "outputs": [],
   "source": [
    "print(\"hello worlds\")"
   ]
  },
  {
   "cell_type": "code",
   "execution_count": null,
   "metadata": {
    "id": "9aMpijBw1KXR"
   },
   "outputs": [],
   "source": [
    "print(\"good byes\")"
   ]
  },
  {
   "cell_type": "code",
   "execution_count": null,
   "metadata": {
    "id": "iUaUWTY_3psv"
   },
   "outputs": [],
   "source": [
    "print(\"open source programming\")"
   ]
  },
  {
   "cell_type": "code",
   "execution_count": null,
   "metadata": {
    "colab": {
     "base_uri": "https://localhost:8080/"
    },
    "executionInfo": {
     "elapsed": 379,
     "status": "ok",
     "timestamp": 1695704943087,
     "user": {
      "displayName": "Hot Soup",
      "userId": "14210358848083290750"
     },
     "user_tz": -540
    },
    "id": "qN8svPq_49Yd",
    "outputId": "dd0504bf-1dbd-4bbe-f3f0-87832c15f08b"
   },
   "outputs": [],
   "source": [
    "print(\"go home\")"
   ]
  },
  {
   "cell_type": "code",
   "execution_count": null,
   "metadata": {
    "colab": {
     "base_uri": "https://localhost:8080/"
    },
    "executionInfo": {
     "elapsed": 641,
     "status": "ok",
     "timestamp": 1695705144429,
     "user": {
      "displayName": "Hot Soup",
      "userId": "14210358848083290750"
     },
     "user_tz": -540
    },
    "id": "RqERcAqK5wNV",
    "outputId": "f414cbbd-52cb-4b3e-a5eb-a79d38e3fa3c"
   },
   "outputs": [],
   "source": [
    "print(\"ddddddddddddddddd\")"
   ]
  }
 ],
 "metadata": {
  "colab": {
   "authorship_tag": "ABX9TyMLKvTCGvvffSlIbWUl2wg4",
   "provenance": []
  },
  "kernelspec": {
   "display_name": "Python 3",
   "name": "python3"
  },
  "language_info": {
   "name": "python"
  }
 },
 "nbformat": 4,
 "nbformat_minor": 0
}
