{
 "cells": [
  {
   "cell_type": "code",
   "execution_count": null,
   "metadata": {
    "colab": {
     "base_uri": "https://localhost:8080/"
    },
    "executionInfo": {
     "elapsed": 351,
     "status": "ok",
     "timestamp": 1695703947851,
     "user": {
      "displayName": "Hot Soup",
      "userId": "14210358848083290750"
     },
     "user_tz": -540
    },
    "id": "AETdhFHcxMcY",
    "outputId": "74d0acfb-ca8a-4722-c1a0-673f017b2a03"
   },
   "outputs": [],
   "source": [
    "print(\"hello worlds\")"
   ]
  },
  {
   "cell_type": "code",
   "execution_count": null,
   "metadata": {
    "colab": {
     "base_uri": "https://localhost:8080/"
    },
    "executionInfo": {
     "elapsed": 669,
     "status": "ok",
     "timestamp": 1695704159551,
     "user": {
      "displayName": "Hot Soup",
      "userId": "14210358848083290750"
     },
     "user_tz": -540
    },
    "id": "9aMpijBw1KXR",
    "outputId": "1ee290ae-f3ac-4f2a-9f11-46699c381b7e"
   },
   "outputs": [],
   "source": [
    "print(\"good byes\")"
   ]
  },
  {
   "cell_type": "code",
   "execution_count": null,
   "metadata": {
    "colab": {
     "base_uri": "https://localhost:8080/"
    },
    "executionInfo": {
     "elapsed": 724,
     "status": "ok",
     "timestamp": 1695704607229,
     "user": {
      "displayName": "Hot Soup",
      "userId": "14210358848083290750"
     },
     "user_tz": -540
    },
    "id": "iUaUWTY_3psv",
    "outputId": "21c2b09c-6711-4ce8-a3b2-413981cca951"
   },
   "outputs": [],
   "source": [
    "print(\"open source programming\")"
   ]
  }
 ],
 "metadata": {
  "colab": {
   "authorship_tag": "ABX9TyPLT3YqcxxQa1A2Qy1Y48Wu",
   "provenance": []
  },
  "kernelspec": {
   "display_name": "Python 3",
   "name": "python3"
  },
  "language_info": {
   "name": "python"
  }
 },
 "nbformat": 4,
 "nbformat_minor": 0
}
